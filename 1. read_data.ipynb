{
 "cells": [
  {
   "cell_type": "code",
   "execution_count": 1,
   "metadata": {},
   "outputs": [],
   "source": [
    "import pandas as pd"
   ]
  },
  {
   "cell_type": "code",
   "execution_count": 5,
   "metadata": {},
   "outputs": [],
   "source": [
    "df_ng = pd.read_csv('data/NG Sensors.csv', delimiter=';')\n",
    "df_pv = pd.read_csv('data/PV Sensors.csv', delimiter=';')\n"
   ]
  },
  {
   "cell_type": "code",
   "execution_count": 6,
   "metadata": {},
   "outputs": [
    {
     "name": "stdout",
     "output_type": "stream",
     "text": [
      "<class 'pandas.core.frame.DataFrame'>\n",
      "RangeIndex: 361 entries, 0 to 360\n",
      "Data columns (total 6 columns):\n",
      " #   Column     Non-Null Count  Dtype  \n",
      "---  ------     --------------  -----  \n",
      " 0   Timestamp  361 non-null    object \n",
      " 1   br1        361 non-null    float64\n",
      " 2   ec         361 non-null    float64\n",
      " 3   hum        361 non-null    float64\n",
      " 4   ph         361 non-null    float64\n",
      " 5   tp         361 non-null    float64\n",
      "dtypes: float64(5), object(1)\n",
      "memory usage: 17.1+ KB\n"
     ]
    }
   ],
   "source": [
    "df_ng.info()"
   ]
  },
  {
   "cell_type": "code",
   "execution_count": 7,
   "metadata": {},
   "outputs": [
    {
     "data": {
      "text/html": [
       "<div>\n",
       "<style scoped>\n",
       "    .dataframe tbody tr th:only-of-type {\n",
       "        vertical-align: middle;\n",
       "    }\n",
       "\n",
       "    .dataframe tbody tr th {\n",
       "        vertical-align: top;\n",
       "    }\n",
       "\n",
       "    .dataframe thead th {\n",
       "        text-align: right;\n",
       "    }\n",
       "</style>\n",
       "<table border=\"1\" class=\"dataframe\">\n",
       "  <thead>\n",
       "    <tr style=\"text-align: right;\">\n",
       "      <th></th>\n",
       "      <th>Timestamp</th>\n",
       "      <th>br1</th>\n",
       "      <th>ec</th>\n",
       "      <th>hum</th>\n",
       "      <th>ph</th>\n",
       "      <th>tp</th>\n",
       "    </tr>\n",
       "  </thead>\n",
       "  <tbody>\n",
       "    <tr>\n",
       "      <th>0</th>\n",
       "      <td>2025-01-25 11:00:00</td>\n",
       "      <td>16230.648667</td>\n",
       "      <td>0.523810</td>\n",
       "      <td>43.343354</td>\n",
       "      <td>8.310000</td>\n",
       "      <td>21.874396</td>\n",
       "    </tr>\n",
       "    <tr>\n",
       "      <th>1</th>\n",
       "      <td>2025-01-25 13:00:00</td>\n",
       "      <td>16144.080563</td>\n",
       "      <td>0.523810</td>\n",
       "      <td>42.778063</td>\n",
       "      <td>8.310000</td>\n",
       "      <td>22.288000</td>\n",
       "    </tr>\n",
       "    <tr>\n",
       "      <th>2</th>\n",
       "      <td>2025-01-25 15:00:00</td>\n",
       "      <td>16224.752042</td>\n",
       "      <td>0.523810</td>\n",
       "      <td>43.505875</td>\n",
       "      <td>8.310000</td>\n",
       "      <td>22.583271</td>\n",
       "    </tr>\n",
       "    <tr>\n",
       "      <th>3</th>\n",
       "      <td>2025-01-25 17:00:00</td>\n",
       "      <td>16076.304046</td>\n",
       "      <td>0.355795</td>\n",
       "      <td>43.437862</td>\n",
       "      <td>5.644528</td>\n",
       "      <td>22.446143</td>\n",
       "    </tr>\n",
       "    <tr>\n",
       "      <th>4</th>\n",
       "      <td>2025-01-25 19:00:00</td>\n",
       "      <td>16056.443165</td>\n",
       "      <td>0.000000</td>\n",
       "      <td>40.700000</td>\n",
       "      <td>0.000000</td>\n",
       "      <td>22.425759</td>\n",
       "    </tr>\n",
       "  </tbody>\n",
       "</table>\n",
       "</div>"
      ],
      "text/plain": [
       "             Timestamp           br1        ec        hum        ph         tp\n",
       "0  2025-01-25 11:00:00  16230.648667  0.523810  43.343354  8.310000  21.874396\n",
       "1  2025-01-25 13:00:00  16144.080563  0.523810  42.778063  8.310000  22.288000\n",
       "2  2025-01-25 15:00:00  16224.752042  0.523810  43.505875  8.310000  22.583271\n",
       "3  2025-01-25 17:00:00  16076.304046  0.355795  43.437862  5.644528  22.446143\n",
       "4  2025-01-25 19:00:00  16056.443165  0.000000  40.700000  0.000000  22.425759"
      ]
     },
     "execution_count": 7,
     "metadata": {},
     "output_type": "execute_result"
    }
   ],
   "source": [
    "df_ng.head()"
   ]
  }
 ],
 "metadata": {
  "kernelspec": {
   "display_name": "venv",
   "language": "python",
   "name": "python3"
  },
  "language_info": {
   "codemirror_mode": {
    "name": "ipython",
    "version": 3
   },
   "file_extension": ".py",
   "mimetype": "text/x-python",
   "name": "python",
   "nbconvert_exporter": "python",
   "pygments_lexer": "ipython3",
   "version": "3.12.9"
  }
 },
 "nbformat": 4,
 "nbformat_minor": 2
}
