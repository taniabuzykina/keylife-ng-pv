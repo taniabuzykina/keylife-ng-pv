{
 "cells": [
  {
   "cell_type": "markdown",
   "id": "a89a9ade",
   "metadata": {},
   "source": [
    "Since edge detection catches too many side objects, we're trying image segmentation."
   ]
  },
  {
   "cell_type": "code",
   "execution_count": 1,
   "id": "65b243e7",
   "metadata": {},
   "outputs": [],
   "source": [
    "import pandas as pd\n",
    "import numpy as np\n",
    "import matplotlib.pyplot as plt\n",
    "import os\n",
    "import seaborn as sns\n",
    "from tensorflow import keras\n",
    "import tensorflow as tf\n",
    "import tensorflow_datasets as tfds\n",
    "import cv2\n",
    "import PIL\n",
    "from IPython.display import clear_output\n",
    "import shutil "
   ]
  },
  {
   "cell_type": "markdown",
   "id": "54920a60",
   "metadata": {},
   "source": [
    "### SPLITTING INTO TRAINING AND TEST SETS"
   ]
  },
  {
   "cell_type": "code",
   "execution_count": 4,
   "id": "fd466607",
   "metadata": {},
   "outputs": [
    {
     "name": "stdout",
     "output_type": "stream",
     "text": [
      "['20250527212620.jpg', '20250527212624.jpg', '20250527212629.jpg', '20250527212634.jpg', '20250527212639.jpg', '20250527212643.jpg', '20250527212647.jpg', '20250527212651.jpg', '20250527212654.jpg', '20250527212658.jpg', '20250527212726.jpg', '20250527212731.jpg', '20250527212735.jpg', '20250527212739.jpg', '20250527212745.jpg', '20250527212749.jpg', '20250527212753.jpg', '20250527212756.jpg', '20250527212800.jpg', '20250527212803.jpg', '20250527212807.jpg', '20250527212814.jpg', '20250527212915.jpg', '20250527212918.jpg', '20250527212943.jpg', '20250527212947.jpg', '20250527212950.jpg', '20250527212953.jpg', '20250527212957.jpg', '20250527213001.jpg', '20250527213004.jpg', '20250527213008.jpg', '20250527213012.jpg', '20250527213017.jpg', '20250527213020.jpg', '20250527213024.jpg', '20250527213027.jpg', '20250527213048.jpg', '20250527213056.jpg', '20250527213100.jpg', '20250527213105.jpg', '20250527213108.jpg', '20250527213112.jpg', '20250527213116.jpg', '20250527213119.jpg', '20250527213123.jpg', '20250527213127.jpg', '20250527213130.jpg', '20250527213134.jpg', '20250527213139.jpg', '20250527213201.jpg', '20250527213204.jpg', '20250527213208.jpg', '20250527213212.jpg', '20250527213214.jpg', '20250527213218.jpg', '20250527213222.jpg', '20250527213226.jpg', '20250527213232.jpg', '20250527213236.jpg', '20250527213240.jpg', '20250527213243.jpg', '20250527213249.jpg', '20250527213340.jpg', '20250527213343.jpg', '20250527213347.jpg', '20250527213350.jpg', '20250527213354.jpg', '20250527213358.jpg', '20250527213402.jpg', '20250527213407.jpg', '20250527213410.jpg', '20250527213414.jpg', '20250527213418.jpg', '20250527213422.jpg', '20250527213426.jpg', '20250527213445.jpg', '20250527213449.jpg', '20250527213452.jpg', '20250527213456.jpg', '20250527213501.jpg', '20250527213504.jpg', '20250527213508.jpg', '20250527213512.jpg', '20250527213517.jpg', '20250527213520.jpg', '20250527213524.jpg', '20250527213527.jpg', '20250527213530.jpg', '20250527213548.jpg', '20250527213551.jpg', '20250527213555.jpg', '20250527213558.jpg', '20250527213602.jpg', '20250527213606.jpg', '20250527213610.jpg', '20250527213613.jpg', '20250527213617.jpg', '20250527213621.jpg', '20250527213625.jpg', '20250527213631.jpg', '20250527213635.jpg', '20250527213654.jpg', '20250527213658.jpg', '20250527213702.jpg', '20250527213705.jpg', '20250527213709.jpg', '20250527213714.jpg', '20250527213718.jpg', '20250527213722.jpg', '20250527213725.jpg', '20250527213729.jpg', '20250527213736.jpg', '20250527213742.jpg', '20250527213749.jpg', '20250527213753.jpg', '20250527213809.jpg', '20250527213813.jpg', '20250527213817.jpg', '20250527213821.jpg', '20250527213824.jpg', '20250527213828.jpg', '20250527213831.jpg', '20250527213835.jpg', '20250527213838.jpg', '20250527213844.jpg', '20250527213848.jpg', '20250527213851.jpg', '20250527213855.jpg', '20250527213910.jpg', '20250527213914.jpg', '20250527213918.jpg', '20250527213921.jpg', '20250527213924.jpg', '20250527213930.jpg', '20250527213934.jpg', '20250527213938.jpg', '20250527213941.jpg', '20250527213945.jpg', '20250527213948.jpg', '20250527213952.jpg', '20250527213956.jpg', '20250528001155.jpg', '20250528001323.jpg', '20250528001328.jpg', '20250528001334.jpg', '20250528001338.jpg', '20250528001343.jpg', '20250528001348.jpg', '20250528001352.jpg', '20250528001357.jpg', '20250528001401.jpg', '20250528001405.jpg', '20250528001521.jpg', '20250528001526.jpg', '20250528001530.jpg', '20250528001534.jpg', '20250528001539.jpg', '20250528001542.jpg', '20250528001546.jpg', '20250528001550.jpg', '20250528001553.jpg', '20250528001557.jpg', '20250528001600.jpg', '20250528001604.jpg', '20250528001624.jpg', '20250528001630.jpg', '20250528001634.jpg', '20250528001639.jpg', '20250528001643.jpg', '20250528001647.jpg', '20250528001650.jpg', '20250528001654.jpg', '20250528001702.jpg', '20250528001706.jpg', '20250528001709.jpg', '20250528001729.jpg', '20250528001739.jpg', '20250528001743.jpg', '20250528001746.jpg', '20250528001750.jpg', '20250528001753.jpg', '20250528001756.jpg', '20250528001800.jpg', '20250528001803.jpg', '20250528001807.jpg', '20250528001811.jpg', '20250528001836.jpg', '20250528001840.jpg', '20250528001843.jpg', '20250528001847.jpg', '20250528001851.jpg', '20250528001854.jpg', '20250528001858.jpg', '20250528001901.jpg', '20250528001905.jpg', '20250528001908.jpg', '20250528001911.jpg', '20250528001915.jpg', '20250528001937.jpg', '20250528001940.jpg', '20250528001944.jpg', '20250528001948.jpg', '20250528001951.jpg', '20250528002028.jpg', '20250528002032.jpg', '20250528002036.jpg', '20250528002040.jpg', '20250528002044.jpg', '20250528002048.jpg', '20250528002051.jpg', '20250528002054.jpg', '20250528002114.jpg', '20250528002118.jpg', '20250528002122.jpg', '20250528002125.jpg', '20250528002129.jpg', '20250528002132.jpg', '20250528002136.jpg', '20250528002139.jpg', '20250528002143.jpg', '20250528002146.jpg', '20250528002150.jpg', '20250528002154.jpg', '20250528002213.jpg', '20250528002216.jpg', '20250528002219.jpg', '20250528002223.jpg', '20250528002226.jpg', '20250528002229.jpg', '20250528002233.jpg', '20250528002237.jpg', '20250528002241.jpg', '20250528002248.jpg', '20250528002252.jpg', '20250528002256.jpg', '20250528002301.jpg', '20250528002320.jpg', '20250528002323.jpg', '20250528002327.jpg', '20250528002331.jpg', '20250528002334.jpg', '20250528002338.jpg', '20250528002341.jpg', '20250528002344.jpg', '20250528002348.jpg', '20250528002351.jpg', '20250528002355.jpg', '20250528002400.jpg', '20250528002404.jpg', '20250528002434.jpg', '20250528002438.jpg', '20250528002441.jpg', '20250528002446.jpg', '20250528002450.jpg', '20250528002454.jpg', '20250528002457.jpg', '20250528002501.jpg', '20250528002504.jpg', '20250528002508.jpg', '20250528002512.jpg', '20250528002515.jpg', '20250528002601.jpg', '20250528002604.jpg', '20250528002608.jpg', '20250528002612.jpg', '20250528002616.jpg', '20250528002620.jpg', '20250528002623.jpg', '20250528002627.jpg', '20250528002630.jpg', '20250528002634.jpg', '20250528002637.jpg', '20250528002641.jpg', '20250528002701.jpg', '20250528002705.jpg', '20250528002709.jpg', '20250528002712.jpg', '20250528002716.jpg', '20250528002719.jpg', '20250528002722.jpg', '20250528002726.jpg', '20250528002729.jpg', '20250528002733.jpg', '20250528002820.jpg', '20250528002824.jpg', '20250528002827.jpg', '20250528002831.jpg', '20250528002834.jpg', '20250528002837.jpg', '20250528002841.jpg', '20250528002844.jpg', '20250528002848.jpg', '20250528002851.jpg', '20250528002855.jpg', '20250528002858.jpg', '20250528002915.jpg', '20250528002918.jpg', '20250528002921.jpg', '20250528002926.jpg', '20250528002930.jpg', '20250528002934.jpg', '20250528002938.jpg', '20250528002942.jpg', '20250528002945.jpg', '20250528002949.jpg', '20250528002952.jpg', '20250528002956.jpg', '20250528003000.jpg', '20250528003015.jpg', '20250528003034.jpg', '20250528003037.jpg', '20250528003040.jpg', '20250528003043.jpg', '20250528003047.jpg', '20250528003050.jpg', '20250528003054.jpg', '20250528003057.jpg', '20250528003109.jpg', '20250528003113.jpg', '20250528003118.jpg', '20250528003121.jpg', '20250528003124.jpg', '20250528003128.jpg', '20250528003131.jpg', '20250528003134.jpg', '20250528003137.jpg', '20250528003141.jpg', '20250528003144.jpg', '20250528003147.jpg', '20250528003151.jpg', '20250528003156.jpg', '20250528003210.jpg', '20250528003213.jpg', '20250528003217.jpg', '20250528003220.jpg', '20250528003224.jpg', '20250528003228.jpg', '20250528003235.jpg', '20250528003238.jpg', '20250528003242.jpg', '20250528003245.jpg', '20250528003249.jpg', '20250528003254.jpg', '20250528003257.jpg', '20250528003302.jpg', '20250528003315.jpg', '20250528003319.jpg', '20250528003323.jpg', '20250528003326.jpg', '20250528003332.jpg', '20250528003338.jpg', '20250528003341.jpg', '20250528003345.jpg', '20250528003348.jpg', '20250528003351.jpg', '20250528003355.jpg', '20250528003359.jpg', '20250528003402.jpg', '20250528003414.jpg', '20250528003418.jpg', '20250528003422.jpg', '20250528003425.jpg', '20250528003428.jpg', '20250528003431.jpg', '20250528003434.jpg', '20250528003438.jpg', '20250528003442.jpg', '20250528003445.jpg', '20250528003448.jpg', '20250528003451.jpg', '20250528003455.jpg', '20250528003500.jpg', '20250528003510.jpg', '20250528003514.jpg', '20250528003517.jpg', '20250528003521.jpg', '20250528003525.jpg', '20250528003528.jpg', '20250528003532.jpg', '20250528003536.jpg', '20250528003540.jpg', '20250528003544.jpg', '20250528003547.jpg', '20250528003551.jpg', '20250528003554.jpg', '20250528003558.jpg', '20250528003611.jpg', '20250528003614.jpg', '20250528003618.jpg', '20250528003622.jpg', '20250528003626.jpg', '20250528003629.jpg', '20250528003632.jpg', '20250528003636.jpg', '20250528003639.jpg', '20250528003642.jpg', '20250528003646.jpg', '20250528003649.jpg', '20250528003653.jpg', '20250528003656.jpg', '20250528003707 - Copy.jpg', '20250528003711.jpg', '20250528003752.jpg', '20250528003806.jpg', '20250528003837.jpg', '20250528003840.jpg', '20250528003844.jpg', '20250528003848.jpg', '20250528003906.jpg', '20250528003909.jpg', '20250528003913.jpg', '20250528003916.jpg', '20250528003920.jpg', '20250528003923.jpg', '20250528003926.jpg', '20250528003929.jpg', '20250528003933.jpg', '20250528003938.jpg', '20250528003942.jpg', '20250528003947.jpg', '20250528003950.jpg', '20250528004021.jpg', '20250528004024.jpg', '20250528004029.jpg', '20250528004033.jpg', '20250528004037.jpg', '20250528004101.jpg', '20250528004106.jpg', '20250528004109.jpg', '20250528004113.jpg', '20250528004116.jpg', '20250528004120.jpg', '20250528004123.jpg', '20250528004127.jpg', '20250528004130.jpg', '20250528004133.jpg', '20250528004137.jpg', '20250528004141.jpg', '20250528004144.jpg', '20250528004159.jpg', '20250528004203.jpg', '20250528004207.jpg', '20250528004211.jpg', '20250528004214.jpg', '20250528004218.jpg', '20250528004222.jpg', '20250528004225.jpg', '20250528004230.jpg', '20250528004234.jpg', '20250528004237.jpg', '20250528004241.jpg', '20250528004244.jpg', '20250528004301.jpg', '20250528004304.jpg', '20250528004307.jpg', '20250528004311.jpg', '20250528004315.jpg', '20250528004318.jpg', '20250528004321.jpg', '20250528004325.jpg', '20250528004328.jpg', '20250528004331.jpg', '20250528004334.jpg', '20250528004337.jpg', '20250528004341.jpg', '20250528004352.jpg', '20250528004356.jpg', '20250528004359.jpg', '20250528004402.jpg', '20250528004406.jpg', '20250528004409.jpg', '20250528004412.jpg', '20250528004416.jpg', '20250528004419.jpg', '20250528004423.jpg', '20250528004427.jpg', '20250528004431.jpg', '20250528004434.jpg', '20250528004438.jpg', '20250528004451.jpg', '20250528004454.jpg', '20250528004457.jpg', '20250528004502.jpg', '20250528004506.jpg', '20250528004509.jpg', '20250528004513.jpg', '20250528004516.jpg', '20250528004519.jpg', '20250528004523.jpg', '20250528004526.jpg', '20250528004530.jpg', '20250528004535.jpg', '20250528004539.jpg', '20250528004549.jpg', '20250528004553.jpg', '20250528004556.jpg', '20250528004600.jpg', '20250528004603.jpg', '20250528004607.jpg', '20250528004610.jpg', '20250528004613.jpg', '20250528004616.jpg', '20250528004619.jpg', '20250528004623.jpg', '20250528004626.jpg', '20250528004629.jpg', '20250528004632.jpg', '20250528004646.jpg', '20250528004650.jpg', '20250528004653.jpg', '20250528004656.jpg', '20250528004700.jpg', '20250528004704.jpg', '20250528004707.jpg', '20250528004710.jpg', '20250528004714.jpg', '20250528004716.jpg', '20250528004720.jpg', '20250528004723.jpg', '20250528004726.jpg', '20250528004740.jpg', '20250528004743.jpg', '20250528004746.jpg', '20250528004750.jpg', '20250528004753.jpg', '20250528004756.jpg', '20250528004800.jpg', '20250528004802.jpg', '20250528004806.jpg', '20250528004812.jpg', '20250528004816.jpg', '20250528004821.jpg', '20250528004825.jpg', '20250528004839.jpg', '20250528004843.jpg', '20250528004846.jpg', '20250528004849.jpg', '20250528004853.jpg', '20250528004857.jpg', '20250528004900.jpg', '20250528004903.jpg', '20250528004907.jpg', '20250528004914.jpg', '20250528004917.jpg', '20250528004921.jpg', '20250528004925.jpg', '20250528004939.jpg', '20250528004942.jpg', '20250528004945.jpg', '20250528004950.jpg', '20250528004953.jpg', '20250528004956.jpg', '20250528004959.jpg', '20250528005002.jpg', '20250528005005.jpg', '20250528005008.jpg', '20250528005011.jpg', '20250528005014.jpg', '20250528005018.jpg', '20250528005021.jpg', '20250528005035.jpg', '20250528005037.jpg', '20250528005042.jpg', '20250528005045.jpg', '20250528005049.jpg', '20250528005053.jpg', '20250528005057.jpg', '20250528005100.jpg', '20250528005103.jpg', '20250528005107.jpg', '20250528005111.jpg', '20250528005115.jpg', '20250528005119.jpg', '20250528005137.jpg', '20250528005141.jpg', '20250528005144.jpg', '20250528005148.jpg', '20250528005152.jpg', '20250528005155.jpg', '20250528005159.jpg', '20250528005202.jpg', '20250528005206.jpg', '20250528005210.jpg', '20250528005214.jpg', '20250528005218.jpg', '20250528005221.jpg', '20250528005240.jpg', '20250528005244.jpg', '20250528005248.jpg', '20250528005251.jpg', '20250528005254.jpg', '20250528005257.jpg', '20250528005303.jpg', '20250528005325.jpg', '20250528005328.jpg', '20250528005331.jpg', '20250528005335.jpg', '20250528005338.jpg', '20250528005341.jpg', '20250528005345.jpg', '20250528005349.jpg', '20250528005352.jpg', '20250528005355.jpg', '20250528005358.jpg', '20250528005401.jpg', '20250528005406.jpg', '20250528005422.jpg', '20250528005425.jpg', '20250528005429.jpg', '20250528005432.jpg', '20250528005435.jpg', '20250528005439.jpg', '20250528005442.jpg', '20250528005445.jpg', '20250528005448.jpg', '20250528005452.jpg', '20250528005455.jpg', '20250528005458.jpg', '20250528005501.jpg', '20250528005520.jpg', '20250528005523.jpg', '20250528005526.jpg', '20250528005530.jpg', '20250528005534.jpg', '20250528005537.jpg', '20250528005540.jpg', '20250528005545.jpg', '20250528005548.jpg', '20250528005552.jpg', '20250528005556.jpg', '20250528005559.jpg', '20250528005611.jpg', '20250528005614.jpg', '20250528005617.jpg', '20250528005620.jpg', '20250528005624.jpg', '20250528005628.jpg', '20250528005632.jpg', '20250528005635.jpg', '20250528005638.jpg', '20250528005642.jpg', '20250528005645.jpg', '20250528005648.jpg', '20250528005652.jpg', '20250528005655.jpg', '20250528005708.jpg', '20250528005714.jpg', '20250528005717.jpg', '20250528005720.jpg', '20250528005723.jpg', '20250528005727.jpg', '20250528005730.jpg', '20250528005734.jpg', '20250528005737.jpg', '20250528005740.jpg', '20250528005744.jpg', '20250528005747.jpg', '20250528005751.jpg', '20250528005755.jpg', '20250528005808.jpg', '20250528005812.jpg', '20250528005815.jpg', '20250528005819.jpg', '20250528005822.jpg', '20250528005826.jpg', '20250528005829.jpg', '20250528005832.jpg', '20250528005837.jpg', '20250528005841.jpg', '20250528005844.jpg', '20250528005848.jpg', '20250528005851.jpg', '20250528005854.jpg', '20250528005904.jpg', '20250528005908.jpg', '20250528005912.jpg', '20250528005915.jpg', '20250528005919.jpg', '20250528005922.jpg', '20250528005925.jpg', '20250528005928.jpg', '20250528005931.jpg', '20250528005935.jpg', '20250528005938.jpg', '20250528005941.jpg', '20250528005945.jpg', '20250528005949.jpg', '20250528010005.jpg', '20250528010008.jpg', '20250528010011.jpg', '20250528010014.jpg', '20250528010017.jpg', '20250528010021.jpg', '20250528010025.jpg', '20250528010028.jpg', '20250528010034.jpg', '20250528010038.jpg', '20250528010041.jpg', '20250528010045.jpg', '20250528010049.jpg', '20250528010059.jpg', '20250528010102.jpg', '20250528010106.jpg', '20250528010110.jpg', '20250528010113.jpg', '20250528010116.jpg', '20250528010120.jpg', '20250528010123.jpg', '20250528010128.jpg', '20250528010131.jpg', '20250528010135.jpg', '20250528010138.jpg', '20250528010141.jpg', '20250528010146.jpg', '20250528010158.jpg', '20250528010203.jpg', '20250528010206.jpg', '20250528010211.jpg', '20250528010214.jpg', '20250528010217.jpg', '20250528010221.jpg', '20250528010225.jpg', '20250528010228.jpg', '20250528010232.jpg', '20250528010235.jpg', '20250528010238.jpg', '20250528010241.jpg', '20250528010245.jpg', '20250528010257.jpg', '20250528010302.jpg', '20250528010306.jpg', '20250528010310.jpg', '20250528010314.jpg', '20250528010319.jpg', '20250528010322.jpg', '20250528010326.jpg', '20250528010329.jpg', '20250528010333.jpg', '20250528010337.jpg', '20250528010340.jpg', '20250528010343.jpg', '20250528010348.jpg', '20250528010400.jpg', '20250528010403.jpg', '20250528010406.jpg', '20250528010410.jpg', '20250528010415.jpg', '20250528010418.jpg', '20250528010421.jpg', '20250528010425.jpg', '20250528010428.jpg', '20250528010431.jpg', '20250528010434.jpg', '20250528010439.jpg', '20250528010443.jpg', '20250528010446.jpg', '20250528010457.jpg', '20250528010500.jpg', '20250528010504.jpg', '20250528010507.jpg', '20250528010511.jpg', '20250528010514.jpg', '20250528010518.jpg', '20250528010521.jpg', '20250528010525.jpg']\n"
     ]
    }
   ],
   "source": [
    "# split images into training and testing \n",
    "\n",
    "directory = '../data/u-net-data/full'\n",
    "\n",
    "print(os.listdir(directory))\n"
   ]
  },
  {
   "cell_type": "code",
   "execution_count": null,
   "id": "44c49179",
   "metadata": {},
   "outputs": [],
   "source": [
    "source_folder = \"C:\\\\Users\\\\tania\\\\PythonProjects\\\\keylife-ng-pv\\\\ml_project_2\\\\data\\\\u-net-data\\\\full\"\n",
    "train_folder = \"C:\\\\Users\\\\tania\\\\PythonProjects\\\\keylife-ng-pv\\\\ml_project_2\\\\data\\\\u-net-data\\\\training\"\n",
    "test_folder = \"C:\\\\Users\\\\tania\\\\PythonProjects\\\\keylife-ng-pv\\\\ml_project_2\\\\data\\\\u-net-data\\\\testing\"\n"
   ]
  },
  {
   "cell_type": "code",
   "execution_count": 13,
   "id": "e590cfff",
   "metadata": {},
   "outputs": [
    {
     "data": {
      "text/plain": [
       "'C:\\\\Users\\\\tania\\\\PythonProjects\\\\keylife-ng-pv\\\\ml_project_2\\\\data\\\\u-net-data\\\\training\\\\20250527213718.jpg'"
      ]
     },
     "execution_count": 13,
     "metadata": {},
     "output_type": "execute_result"
    }
   ],
   "source": [
    "os.path.join(train_folder, '20250527213718.jpg')"
   ]
  },
  {
   "cell_type": "code",
   "execution_count": null,
   "id": "ae5a9045",
   "metadata": {},
   "outputs": [],
   "source": [
    "import random\n",
    "\n",
    "images = os.listdir(source_folder)\n",
    "random.shuffle(images)\n",
    "\n",
    "\n",
    "split_idx = int(len(images) * 0.8)  # 80% for training, 20% for testing"
   ]
  },
  {
   "cell_type": "code",
   "execution_count": 27,
   "id": "b234ef99",
   "metadata": {},
   "outputs": [],
   "source": [
    "train_images = images[:split_idx]\n",
    "test_images = images[split_idx:]\n",
    "\n",
    "# Move images to respective folders\n",
    "for img in train_images:\n",
    "    # print(os.path.join(source_folder, img))\n",
    "    shutil.move(os.path.join(source_folder, img), os.path.join(train_folder, img))\n"
   ]
  },
  {
   "cell_type": "code",
   "execution_count": 28,
   "id": "808d508f",
   "metadata": {},
   "outputs": [],
   "source": [
    "\n",
    "for img in test_images:\n",
    "        # print(os.path.join(train_folder, img.name))\n",
    "        shutil.move(os.path.join(source_folder, img), os.path.join(test_folder, img))"
   ]
  },
  {
   "cell_type": "markdown",
   "id": "5d237a00",
   "metadata": {},
   "source": [
    "### LABELLING THE DATA FOR U-NET"
   ]
  },
  {
   "cell_type": "code",
   "execution_count": null,
   "id": "f77993d0",
   "metadata": {},
   "outputs": [],
   "source": [
    "import glob\n",
    "from PIL import Image\n",
    "from tqdm import tqdm\n",
    "import sys\n",
    "\n",
    "def convert_images_to_tif(training_dir, training_labels_dir, output_training_dir, output_labels_dir):\n",
    "    \"\"\"\n",
    "    Convert PNG images to TIF format, but only process pairs where both the image and mask exist.\n",
    "    \n",
    "    Args:\n",
    "        training_dir: Directory containing original training images\n",
    "        training_labels_dir: Directory containing mask images\n",
    "        output_training_dir: Directory to save converted training images\n",
    "        output_labels_dir: Directory to save converted mask images\n",
    "    \"\"\"\n",
    "    # Create output directories if they don't exist\n",
    "    os.makedirs(output_training_dir, exist_ok=True)\n",
    "    os.makedirs(output_labels_dir, exist_ok=True)\n",
    "    \n",
    "    # Get list of all mask files\n",
    "    mask_files = glob.glob(os.path.join(training_labels_dir, '*_mask.png'))\n",
    "    \n",
    "    # Extract base filenames from masks (without _mask.png)\n",
    "    mask_base_names = [os.path.basename(f).replace('_mask.png', '') for f in mask_files]\n",
    "    \n",
    "    print(f\"Found {len(mask_files)} mask files in {training_labels_dir}\")\n",
    "    \n",
    "    # Initialize counters\n",
    "    processed_count = 0\n",
    "    skipped_count = 0\n",
    "    error_count = 0\n",
    "    \n",
    "    # Process each image that has a corresponding mask\n",
    "    for base_name in tqdm(mask_base_names, desc=\"Converting image pairs\"):\n",
    "        # Define source paths\n",
    "        source_image_path = os.path.join(training_dir, f\"{base_name}.jpg\")\n",
    "        source_mask_path = os.path.join(training_labels_dir, f\"{base_name}_mask.png\")\n",
    "        \n",
    "        # Define destination paths\n",
    "        dest_image_path = os.path.join(output_training_dir, f\"{base_name}.tif\")\n",
    "        dest_mask_path = os.path.join(output_labels_dir, f\"{base_name}_mask.tif\")\n",
    "        \n",
    "        # Check if source image exists\n",
    "        if not os.path.exists(source_image_path):\n",
    "            print(f\"Warning: Training image {source_image_path} not found, skipping pair\")\n",
    "            skipped_count += 1\n",
    "            continue\n",
    "        \n",
    "        try:\n",
    "            # Open and convert training image\n",
    "            with Image.open(source_image_path) as img:\n",
    "                # Save as TIFF with high quality\n",
    "                img.save(dest_image_path, format='TIFF', compression='tiff_lzw')\n",
    "            \n",
    "            # Open and convert mask image\n",
    "            with Image.open(source_mask_path) as mask:\n",
    "                # Ensure mask is in binary/grayscale mode\n",
    "                if mask.mode != 'L':\n",
    "                    mask = mask.convert('L')\n",
    "                # Save as TIFF with appropriate compression for binary images\n",
    "                mask.save(dest_mask_path, format='TIFF', compression='tiff_lzw')\n",
    "            \n",
    "            processed_count += 1\n",
    "            \n",
    "        except Exception as e:\n",
    "            print(f\"Error processing {base_name}: {str(e)}\")\n",
    "            error_count += 1\n",
    "    \n",
    "    # Print summary\n",
    "    total_training_images = len(glob.glob(os.path.join(training_dir, '*.png')))\n",
    "    print(\"\\nConversion Summary:\")\n",
    "    print(f\"Total training images: {total_training_images}\")\n",
    "    print(f\"Total mask images: {len(mask_files)}\")\n",
    "    print(f\"Successfully converted pairs: {processed_count}\")\n",
    "    print(f\"Skipped (no matching pair): {skipped_count}\")\n",
    "    print(f\"Errors during conversion: {error_count}\")\n",
    "    print(f\"Training images without masks: {total_training_images - len(mask_files)}\")\n",
    "\n",
    "\n",
    "def verify_conversions(output_training_dir, output_labels_dir):\n",
    "    \"\"\"\n",
    "    Verify that the conversions were successful by checking file counts and opening a sample.\n",
    "    \"\"\"\n",
    "    training_tifs = glob.glob(os.path.join(output_training_dir, '*.tif'))\n",
    "    mask_tifs = glob.glob(os.path.join(output_labels_dir, '*.tif'))\n",
    "    \n",
    "    print(\"\\nVerification:\")\n",
    "    print(f\"TIF files in output training directory: {len(training_tifs)}\")\n",
    "    print(f\"TIF files in output labels directory: {len(mask_tifs)}\")\n",
    "    \n",
    "    if training_tifs and mask_tifs:\n",
    "        # Try to open a sample image to verify\n",
    "        try:\n",
    "            sample_img = Image.open(training_tifs[0])\n",
    "            sample_mask = Image.open(mask_tifs[0])\n",
    "            print(f\"Sample image size: {sample_img.size}, mode: {sample_img.mode}\")\n",
    "            print(f\"Sample mask size: {sample_mask.size}, mode: {sample_mask.mode}\")\n",
    "            print(\"Successfully verified sample files can be opened\")\n",
    "        except Exception as e:\n",
    "            print(f\"Error verifying sample files: {str(e)}\")\n"
   ]
  },
  {
   "cell_type": "code",
   "execution_count": 6,
   "id": "7db4d47c",
   "metadata": {},
   "outputs": [
    {
     "name": "stdout",
     "output_type": "stream",
     "text": [
      "Source training directory: C:\\Users\\tania\\PythonProjects\\keylife-ng-pv\\ml_project_2\\data\\u-net-data\\training\n",
      "Source labels directory: C:\\Users\\tania\\PythonProjects\\keylife-ng-pv\\ml_project_2\\data\\u-net-data\\training-labels\n",
      "Output training directory: training-tif\n",
      "Output labels directory: training-labels-tif\n",
      "Found 107 mask files in C:\\Users\\tania\\PythonProjects\\keylife-ng-pv\\ml_project_2\\data\\u-net-data\\training-labels\n"
     ]
    },
    {
     "name": "stderr",
     "output_type": "stream",
     "text": [
      "Converting image pairs: 100%|██████████| 107/107 [00:11<00:00,  9.35it/s]"
     ]
    },
    {
     "name": "stdout",
     "output_type": "stream",
     "text": [
      "\n",
      "Conversion Summary:\n",
      "Total training images: 0\n",
      "Total mask images: 107\n",
      "Successfully converted pairs: 107\n",
      "Skipped (no matching pair): 0\n",
      "Errors during conversion: 0\n",
      "Training images without masks: -107\n",
      "\n",
      "Verification:\n",
      "TIF files in output training directory: 107\n",
      "TIF files in output labels directory: 107\n",
      "Sample image size: (1440, 1616), mode: RGB\n",
      "Sample mask size: (1440, 1616), mode: L\n",
      "Successfully verified sample files can be opened\n"
     ]
    },
    {
     "name": "stderr",
     "output_type": "stream",
     "text": [
      "\n"
     ]
    }
   ],
   "source": [
    "\n",
    "training_dir = \"C:\\\\Users\\\\tania\\\\PythonProjects\\\\keylife-ng-pv\\\\ml_project_2\\\\data\\\\u-net-data\\\\training\"\n",
    "training_labels_dir = \"C:\\\\Users\\\\tania\\\\PythonProjects\\\\keylife-ng-pv\\\\ml_project_2\\\\data\\\\u-net-data\\\\training-labels\"\n",
    "output_training_dir = \"training-tif\"\n",
    "output_labels_dir = \"training-labels-tif\"\n",
    "\n",
    "# Allow command-line overrides of directories\n",
    "if len(sys.argv) > 4:\n",
    "    training_dir = sys.argv[1]\n",
    "    training_labels_dir = sys.argv[2]\n",
    "    output_training_dir = sys.argv[3]\n",
    "    output_labels_dir = sys.argv[4]\n",
    "\n",
    "print(f\"Source training directory: {training_dir}\")\n",
    "print(f\"Source labels directory: {training_labels_dir}\")\n",
    "print(f\"Output training directory: {output_training_dir}\")\n",
    "print(f\"Output labels directory: {output_labels_dir}\")\n",
    "\n",
    "# Run the conversion\n",
    "convert_images_to_tif(training_dir, training_labels_dir, output_training_dir, output_labels_dir)\n",
    "\n",
    "# Verify the results\n",
    "verify_conversions(output_training_dir, output_labels_dir)"
   ]
  },
  {
   "cell_type": "code",
   "execution_count": 13,
   "id": "864700eb",
   "metadata": {},
   "outputs": [
    {
     "name": "stderr",
     "output_type": "stream",
     "text": [
      "Converting to TIFF: 100%|██████████| 45/45 [00:04<00:00, 11.21it/s]"
     ]
    },
    {
     "name": "stdout",
     "output_type": "stream",
     "text": [
      "Processed :  45 images\n"
     ]
    },
    {
     "name": "stderr",
     "output_type": "stream",
     "text": [
      "\n"
     ]
    }
   ],
   "source": [
    "test_dir = \"C:\\\\Users\\\\tania\\\\PythonProjects\\\\keylife-ng-pv\\\\ml_project_2\\\\data\\\\u-net-data\\\\testing\"\n",
    "output_test_dir = \"C:\\\\Users\\\\tania\\\\PythonProjects\\\\keylife-ng-pv\\\\ml_project_2\\\\data\\\\u-net-data\\\\testing-tif\"\n",
    "\n",
    "base_names = [os.path.basename(f).replace('.jpg', '') for f in os.listdir(test_dir)]\n",
    "\n",
    "for image in tqdm(base_names, 'Converting to TIFF: '):\n",
    "\n",
    "    source_image_path = os.path.join(test_dir, f\"{image}.jpg\")\n",
    "    dest_image_path = os.path.join(output_test_dir, f\"{image}.tif\")\n",
    "\n",
    "    try:\n",
    "        # Open and convert training image\n",
    "        with Image.open(source_image_path) as img:\n",
    "            # Save as TIFF with high quality\n",
    "            img.save(dest_image_path, format='TIFF', compression='tiff_lzw')\n",
    "        \n",
    "        \n",
    "    except Exception as e:\n",
    "        print(f\"Error processing {image}: {str(e)}\")\n",
    "\n",
    "# Print summary\n",
    "total_training_images = len(glob.glob(os.path.join(test_dir, '*.jpg')))\n",
    "print(\"Processed : \", total_training_images, \"images\")\n"
   ]
  }
 ],
 "metadata": {
  "kernelspec": {
   "display_name": ".venv",
   "language": "python",
   "name": "python3"
  },
  "language_info": {
   "codemirror_mode": {
    "name": "ipython",
    "version": 3
   },
   "file_extension": ".py",
   "mimetype": "text/x-python",
   "name": "python",
   "nbconvert_exporter": "python",
   "pygments_lexer": "ipython3",
   "version": "3.12.2"
  }
 },
 "nbformat": 4,
 "nbformat_minor": 5
}
