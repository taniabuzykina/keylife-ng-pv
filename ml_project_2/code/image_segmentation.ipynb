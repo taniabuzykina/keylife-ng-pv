{
 "cells": [
  {
   "cell_type": "markdown",
   "id": "a89a9ade",
   "metadata": {},
   "source": [
    "Since edge detection catches too many side objects, we're trying image segmentation."
   ]
  },
  {
   "cell_type": "code",
   "execution_count": null,
   "id": "65b243e7",
   "metadata": {},
   "outputs": [],
   "source": []
  }
 ],
 "metadata": {
  "kernelspec": {
   "display_name": ".venv",
   "language": "python",
   "name": "python3"
  },
  "language_info": {
   "name": "python",
   "version": "3.12.2"
  }
 },
 "nbformat": 4,
 "nbformat_minor": 5
}
